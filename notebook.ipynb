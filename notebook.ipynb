{
  "metadata": {
    "language_info": {
      "pygments_lexer": "ipython3",
      "version": "3.5.2",
      "mimetype": "text/x-python",
      "codemirror_mode": {
        "name": "ipython",
        "version": 3
      },
      "name": "python",
      "file_extension": ".py",
      "nbconvert_exporter": "python"
    },
    "kernelspec": {
      "name": "python3",
      "display_name": "Python 3",
      "language": "python"
    }
  },
  "cells": [
    {
      "cell_type": "markdown",
      "source": "## 1. Preparing our dataset\n<p><em>These recommendations are so on point! How does this playlist know me so well?</em></p>\n<p><img src=\"https://assets.datacamp.com/production/project_449/img/iphone_music.jpg\" alt=\"Project Image Record\" width=\"600px\"></p>\n<p>Over the past few years, streaming services with huge catalogs have become the primary means through which most people listen to their favorite music. But at the same time, the sheer amount of music on offer can mean users might be a bit overwhelmed when trying to look for newer music that suits their tastes.</p>\n<p>For this reason, streaming services have looked into means of categorizing music to allow for personalized recommendations. One method involves direct analysis of the raw audio information in a given song, scoring the raw data on a variety of metrics. Today, we'll be examining data compiled by a research group known as The Echo Nest. Our goal is to look through this dataset and classify songs as being either 'Hip-Hop' or 'Rock' - all without listening to a single one ourselves. In doing so, we will learn how to clean our data, do some exploratory data visualization, and use feature reduction towards the goal of feeding our data through some simple machine learning algorithms, such as decision trees and logistic regression.</p>\n<p>To begin with, let's load the metadata about our tracks alongside the track metrics compiled by The Echo Nest. A song is about more than its title, artist, and number of listens. We have another dataset that has musical features of each track such as <code>danceability</code> and <code>acousticness</code> on a scale from -1 to 1. These exist in two different files, which are in different formats - CSV and JSON. While CSV is a popular file format for denoting tabular data, JSON is another common file format in which databases often return the results of a given query.</p>\n<p>Let's start by creating two pandas <code>DataFrames</code> out of these files that we can merge so we have features and labels (often also referred to as <code>X</code> and <code>y</code>) for the classification later on.</p>",
      "metadata": {
        "tags": [
          "context"
        ],
        "run_control": {
          "frozen": true
        },
        "dc": {
          "key": "3"
        }
      }
    },
    {
      "cell_type": "code",
      "execution_count": 7,
      "source": "import pandas as pd\n\n# Read in track metadata with genre labels\ntracks = pd.read_csv('datasets/fma-rocs-vs-hiphop.csv')\n\n# Read in track metrics with the features\nechonest_metrics = pd.read_json('datasets/echonest-metrics.json')\n\n# Merge the relevant columns of tracks and echonest_metrics\necho_tracks = echonest_metrics.merge(tracks[['genre_top', 'track_id']], on='track_id')\n# Inspect the resultant dataframe\necho_tracks.info()",
      "outputs": [
        {
          "traceback": [
            "---------------------------------------------------------------------------",
            "FileNotFoundError                         Traceback (most recent call last)",
            "<ipython-input-7-10ae87b3de37> in <module>()\n      2 \n      3 # Read in track metadata with genre labels\n----> 4 tracks = pd.read_csv('datasets/fma-rocs-vs-hiphop.csv')\n      5 \n      6 # Read in track metrics with the features\n",
            "/usr/local/lib/python3.5/dist-packages/pandas/io/parsers.py in parser_f(filepath_or_buffer, sep, delimiter, header, names, index_col, usecols, squeeze, prefix, mangle_dupe_cols, dtype, engine, converters, true_values, false_values, skipinitialspace, skiprows, nrows, na_values, keep_default_na, na_filter, verbose, skip_blank_lines, parse_dates, infer_datetime_format, keep_date_col, date_parser, dayfirst, iterator, chunksize, compression, thousands, decimal, lineterminator, quotechar, quoting, escapechar, comment, encoding, dialect, tupleize_cols, error_bad_lines, warn_bad_lines, skipfooter, doublequote, delim_whitespace, low_memory, memory_map, float_precision)\n    676                     skip_blank_lines=skip_blank_lines)\n    677 \n--> 678         return _read(filepath_or_buffer, kwds)\n    679 \n    680     parser_f.__name__ = name\n",
            "/usr/local/lib/python3.5/dist-packages/pandas/io/parsers.py in _read(filepath_or_buffer, kwds)\n    438 \n    439     # Create the parser.\n--> 440     parser = TextFileReader(filepath_or_buffer, **kwds)\n    441 \n    442     if chunksize or iterator:\n",
            "/usr/local/lib/python3.5/dist-packages/pandas/io/parsers.py in __init__(self, f, engine, **kwds)\n    785             self.options['has_index_names'] = kwds['has_index_names']\n    786 \n--> 787         self._make_engine(self.engine)\n    788 \n    789     def close(self):\n",
            "/usr/local/lib/python3.5/dist-packages/pandas/io/parsers.py in _make_engine(self, engine)\n   1012     def _make_engine(self, engine='c'):\n   1013         if engine == 'c':\n-> 1014             self._engine = CParserWrapper(self.f, **self.options)\n   1015         else:\n   1016             if engine == 'python':\n",
            "/usr/local/lib/python3.5/dist-packages/pandas/io/parsers.py in __init__(self, src, **kwds)\n   1706         kwds['usecols'] = self.usecols\n   1707 \n-> 1708         self._reader = parsers.TextReader(src, **kwds)\n   1709 \n   1710         passed_names = self.names is None\n",
            "pandas/_libs/parsers.pyx in pandas._libs.parsers.TextReader.__cinit__()\n",
            "pandas/_libs/parsers.pyx in pandas._libs.parsers.TextReader._setup_parser_source()\n",
            "FileNotFoundError: File b'datasets/fma-rocs-vs-hiphop.csv' does not exist"
          ],
          "output_type": "error",
          "ename": "FileNotFoundError",
          "evalue": "File b'datasets/fma-rocs-vs-hiphop.csv' does not exist"
        }
      ],
      "metadata": {
        "tags": [
          "sample_code"
        ],
        "dc": {
          "key": "3"
        },
        "trusted": true
      }
    },
    {
      "cell_type": "markdown",
      "source": "## 2. Pairwise relationships between continuous variables\n<p>We typically want to avoid using variables that have strong correlations with each other -- hence avoiding feature redundancy -- for a few reasons:</p>\n<ul>\n<li>To keep the model simple and improve interpretability (with many features, we run the risk of overfitting).</li>\n<li>When our datasets are very large, using fewer features can drastically speed up our computation time.</li>\n</ul>\n<p>To get a sense of whether there are any strongly correlated features in our data, we will use built-in functions in the <code>pandas</code> package.</p>",
      "metadata": {
        "tags": [
          "context"
        ],
        "run_control": {
          "frozen": true
        },
        "dc": {
          "key": "10"
        }
      }
    },
    {
      "cell_type": "code",
      "execution_count": null,
      "source": "# Create a correlation matrix\ncorr_metrics = echo_tracks.corr()\ncorr_metrics.style.background_gradient()",
      "outputs": [],
      "metadata": {
        "tags": [
          "sample_code"
        ],
        "collapsed": true,
        "dc": {
          "key": "10"
        },
        "trusted": true
      }
    },
    {
      "cell_type": "markdown",
      "source": "## 3. Splitting our data\n<p>As mentioned earlier, it can be particularly useful to simplify our models and use as few features as necessary to achieve the best result. Since we didn't find any particularly strong correlations between our features, we can now split our data into an array containing our features, and another containing the labels - the genre of the track. </p>\n<p>Once we have split the data into these arrays, we will perform some preprocessing steps to optimize our model development.</p>",
      "metadata": {
        "tags": [
          "context"
        ],
        "run_control": {
          "frozen": true
        },
        "dc": {
          "key": "17"
        }
      }
    },
    {
      "cell_type": "code",
      "execution_count": null,
      "source": "# Import train_test_split function and Decision tree classifier\n# ... YOUR CODE ...\nfrom sklearn.model_selection import train_test_split\n\n# Create features\nfeatures = echo_tracks.drop([\"genre_top\", \"track_id\"], axis = 1).values\n\n# Create labels\nlabels = echo_tracks[\"genre_top\"].values\n\n# Split our data\ntrain_features, test_features, train_labels, test_labels = train_test_split(features, labels, random_state=10)",
      "outputs": [],
      "metadata": {
        "tags": [
          "sample_code"
        ],
        "collapsed": true,
        "dc": {
          "key": "17"
        },
        "trusted": true
      }
    },
    {
      "cell_type": "markdown",
      "source": "## 4. Normalizing the feature data\n<p>As mentioned earlier, it can be particularly useful to simplify our models and use as few features as necessary to achieve the best result. Since we didn't find any particular strong correlations between our features, we can instead use a common approach to reduce the number of features called <strong>principal component analysis (PCA)</strong>. </p>\n<p>It is possible that the variance between genres can be explained by just a few features in the dataset. PCA rotates the data along the axis of highest variance, thus allowing us to determine the relative contribution of each feature of our data towards the variance between classes. </p>\n<p>However, since PCA uses the absolute variance of a feature to rotate the data, a feature with a broader range of values will overpower and bias the algorithm relative to the other features. To avoid this, we must first normalize our train and test features. There are a few methods to do this, but a common way is through <em>standardization</em>, such that all features have a mean = 0 and standard deviation = 1 (the resultant is a z-score). </p>",
      "metadata": {
        "tags": [
          "context"
        ],
        "run_control": {
          "frozen": true
        },
        "dc": {
          "key": "24"
        }
      }
    },
    {
      "cell_type": "code",
      "execution_count": null,
      "source": "# Import the StandardScaler\nfrom sklearn.preprocessing import StandardScaler\n\n# Scale the features and set the values to a new variable\nscaler = StandardScaler()\n\n# Scale train_features and test_features\nscaled_train_features = scaler.fit_transform(train)\nscaled_test_features = scaler.tranform(test)",
      "outputs": [],
      "metadata": {
        "tags": [
          "sample_code"
        ],
        "collapsed": true,
        "dc": {
          "key": "24"
        },
        "trusted": true
      }
    },
    {
      "cell_type": "markdown",
      "source": "## 5. Principal Component Analysis on our scaled data\n<p>Now that we have preprocessed our data, we are ready to use PCA to determine by how much we can reduce the dimensionality of our data. We can use <strong>scree-plots</strong> and <strong>cumulative explained ratio plots</strong> to find the number of components to use in further analyses.</p>\n<p>Scree-plots display the number of components against the variance explained by each component, sorted in descending order of variance. Scree-plots help us get a better sense of which components explain a sufficient amount of variance in our data. When using scree plots, an 'elbow' (a steep drop from one data point to the next) in the plot is typically used to decide on an appropriate cutoff.</p>",
      "metadata": {
        "tags": [
          "context"
        ],
        "run_control": {
          "frozen": true
        },
        "dc": {
          "key": "31"
        }
      }
    },
    {
      "cell_type": "code",
      "execution_count": null,
      "source": "# This is just to make plots appear in the notebook\n%matplotlib inline\n\n# Import our plotting module, and PCA class\nimport matplotlib.pyplot as plt\nfrom sklearn.decomposition import PCA\n\n# Get our explained variance ratios from PCA using all features\npca = PCA()\npca.fit(scaled_train_features)\nexp_variance = pca.explained_variance_ratio_\n\n# plot the explained variance using a barplot\nfig, ax = plt.subplots()\nax.bar(range(pca.n_components_), exp_variance)\nax.set_xlabel('Principal Component #')",
      "outputs": [],
      "metadata": {
        "tags": [
          "sample_code"
        ],
        "dc": {
          "key": "31"
        },
        "trusted": true
      }
    },
    {
      "cell_type": "markdown",
      "source": "## 6. Further visualization of PCA\n<p>Unfortunately, there does not appear to be a clear elbow in this scree plot, which means it is not straightforward to find the number of intrinsic dimensions using this method. </p>\n<p>But all is not lost! Instead, we can also look at the <strong>cumulative explained variance plot</strong> to determine how many features are required to explain, say, about 85% of the variance (cutoffs are somewhat arbitrary here, and usually decided upon by 'rules of thumb'). Once we determine the appropriate number of components, we can perform PCA with that many components, ideally reducing the dimensionality of our data.</p>",
      "metadata": {
        "tags": [
          "context"
        ],
        "run_control": {
          "frozen": true
        },
        "dc": {
          "key": "38"
        }
      }
    },
    {
      "cell_type": "code",
      "execution_count": null,
      "source": "import numpy as np\n\n# Calculate the cumulative explained variance\ncum_exp_variance = np.cumsum(exp_variance)\n\n# Plot the cumulative explained variance and draw a dashed line at 0.85.\nfig, ax = plt.subplots()\nax.plot(cum_exp_variance)\nax.axhline(y=0.85, linestyle='--')",
      "outputs": [],
      "metadata": {
        "tags": [
          "sample_code"
        ],
        "collapsed": true,
        "dc": {
          "key": "38"
        },
        "trusted": true
      }
    },
    {
      "cell_type": "markdown",
      "source": "## 7. Projecting on to our features\n<p>We saw from the plot that 6 features (remember indexing starts at 0) can explain 85% of the variance! </p>\n<p>Therefore, we can use 6 components to perform PCA and reduce the dimensionality of our train and test features.</p>",
      "metadata": {
        "tags": [
          "context"
        ],
        "run_control": {
          "frozen": true
        },
        "dc": {
          "key": "45"
        }
      }
    },
    {
      "cell_type": "code",
      "execution_count": null,
      "source": "# Perform PCA with the chosen number of components and project data onto components\npca = PCA(n_components=6, random_state=10)\n\n# Fit and transform the scaled training features using pca\ntrain_pca = pca.fit_transform(scaled_train_features)\n\n# Fit and transform the scaled test features using pca\ntest_pca = pca.transform(scaled_test_features)",
      "outputs": [],
      "metadata": {
        "tags": [
          "sample_code"
        ],
        "collapsed": true,
        "dc": {
          "key": "45"
        },
        "trusted": true
      }
    },
    {
      "cell_type": "markdown",
      "source": "## 8. Train a decision tree to classify genre\n<p>Now we can use the lower dimensional PCA projection of the data to classify songs into genres. </p>\n<p>Here, we will be using a simple algorithm known as a decision tree. Decision trees are rule-based classifiers that take in features and follow a 'tree structure' of binary decisions to ultimately classify a data point into one of two or more categories. In addition to being easy to both use and interpret, decision trees allow us to visualize the 'logic flowchart' that the model generates from the training data.</p>\n<p>Here is an example of a decision tree that demonstrates the process by which an input image (in this case, of a shape) might be classified based on the number of sides it has and whether it is rotated.</p>\n<p><img src=\"https://assets.datacamp.com/production/project_449/img/simple_decision_tree.png\" alt=\"Decision Tree Flow Chart Example\" width=\"350px\"></p>",
      "metadata": {
        "tags": [
          "context"
        ],
        "run_control": {
          "frozen": true
        },
        "dc": {
          "key": "52"
        }
      }
    },
    {
      "cell_type": "code",
      "execution_count": null,
      "source": "# Import Decision tree classifier\nfrom sklearn.tree import DecisionTreeClassifier\n\n# Create our decision tree\ntree = DecisionTreeClassifier(random_state=10)\n\n# Train our decision tree\ntree.fit(train_pca, train_labels)\n\n# Predict the labels for the test data\npred_labels_tree = tree.predict(test_pca)",
      "outputs": [],
      "metadata": {
        "tags": [
          "sample_code"
        ],
        "collapsed": true,
        "dc": {
          "key": "52"
        },
        "trusted": true
      }
    },
    {
      "cell_type": "markdown",
      "source": "## 9. Compare our decision tree to a logistic regression\n<p>Although our tree's performance is decent, it's a bad idea to immediately assume that it's therefore the perfect tool for this job -- there's always the possibility of other models that will perform even better! It's always a worthwhile idea to at least test a few other algorithms and find the one that's best for our data.</p>\n<p>Sometimes simplest is best, and so we will start by applying <strong>logistic regression</strong>. Logistic regression makes use of what's called the logistic function to calculate the odds that a given data point belongs to a given class. Once we have both models, we can compare them on a few performance metrics, such as false positive and false negative rate (or how many points are inaccurately classified). </p>",
      "metadata": {
        "tags": [
          "context"
        ],
        "run_control": {
          "frozen": true
        },
        "dc": {
          "key": "59"
        }
      }
    },
    {
      "cell_type": "code",
      "execution_count": null,
      "source": "# Import LogisticRegression\nfrom sklearn.linear_model import LogisticRegression\n\n# Train our logistic regression and predict labels for the test set\nlogreg = ...\n...\npred_labels_logit = ...\n\n# Create the classification report for both models\nfrom sklearn.metrics import classification_report\nclass_rep_tree = ...\nclass_rep_log = ...\n\nprint(\"Decision Tree: \\n\", class_rep_tree)\nprint(\"Logistic Regression: \\n\", class_rep_log)",
      "outputs": [],
      "metadata": {
        "tags": [
          "sample_code"
        ],
        "collapsed": true,
        "dc": {
          "key": "59"
        },
        "trusted": true
      }
    },
    {
      "cell_type": "markdown",
      "source": "## 10. Balance our data for greater performance\n<p>Both our models do similarly well, boasting an average precision of 87% each. However, looking at our classification report, we can see that rock songs are fairly well classified, but hip-hop songs are disproportionately misclassified as rock songs. </p>\n<p>Why might this be the case? Well, just by looking at the number of data points we have for each class, we see that we have far more data points for the rock classification than for hip-hop, potentially skewing our model's ability to distinguish between classes. This also tells us that most of our model's accuracy is driven by its ability to classify just rock songs, which is less than ideal.</p>\n<p>To account for this, we can weight the value of a correct classification in each class inversely to the occurrence of data points for each class. Since a correct classification for \"Rock\" is not more important than a correct classification for \"Hip-Hop\" (and vice versa), we only need to account for differences in <em>sample size</em> of our data points when weighting our classes here, and not relative importance of each class. </p>",
      "metadata": {
        "tags": [
          "context"
        ],
        "run_control": {
          "frozen": true
        },
        "dc": {
          "key": "66"
        }
      }
    },
    {
      "cell_type": "code",
      "execution_count": null,
      "source": "# Subset a balanced proportion of data points\nhop_only = echo_tracks.loc[echo_tracks['genre_top'] == 'Hip-Hop']\nrock_only = echo_tracks.loc[echo_tracks['genre_top'] == 'Rock']\n\n# subset only the rock songs, and take a sample the same size as there are hip-hop songs\nrock_only = rock_only.sample(hop_only.shape[0], random_state=10)\n\n# concatenate the dataframes hop_only and rock_only\nrock_hop_bal = pd.concat([rock_only, hop_only])\n\n# The features, labels, and pca projection are created for the balanced dataframe\nfeatures = rock_hop_bal.drop(['genre_top', 'track_id'], axis=1) \nlabels = rock_hop_bal['genre_top']\n\n# Redefine the train and test set with the pca_projection from the balanced data\ntrain_features, test_features, train_labels, test_labels = train_test_split(\n    features, labels, random_state=10)\n\ntrain_pca = pca.fit_transform(scaler.fit_transform(train_features))\ntest_pca = pca.transform(scaler.transform(test_features))",
      "outputs": [],
      "metadata": {
        "tags": [
          "sample_code"
        ],
        "collapsed": true,
        "dc": {
          "key": "66"
        },
        "trusted": true
      }
    },
    {
      "cell_type": "markdown",
      "source": "## 11. Does balancing our dataset improve model bias?\n<p>We've now balanced our dataset, but in doing so, we've removed a lot of data points that might have been crucial to training our models. Let's test to see if balancing our data improves model bias towards the \"Rock\" classification while retaining overall classification performance. </p>\n<p>Note that we have already reduced the size of our dataset and will go forward without applying any dimensionality reduction. In practice, we would consider dimensionality reduction more rigorously when dealing with vastly large datasets and when computation times become prohibitively large.</p>",
      "metadata": {
        "tags": [
          "context"
        ],
        "run_control": {
          "frozen": true
        },
        "dc": {
          "key": "73"
        }
      }
    },
    {
      "cell_type": "code",
      "execution_count": null,
      "source": "# Train our decision tree on the balanced data\ntree = DecisionTreeClassifier(random_state=10)\ntree.fit(train_pca, train_labels)\npred_labels_tree = tree.predict(test_pca)\n\n# Train our logistic regression on the balanced data\nlogreg = LogisticRegression(random_state=10)\nlogreg.fit(train_pca, train_labels)\npred_labels_logit = logreg.predict(test_pca)\n\n# compare the models\nprint(\"Decision Tree: \\n\", classification_report(test_labels, pred_labels_tree))\nprint(\"Logistic Regression: \\n\", classification_report(test_labels, pred_labels_logit))",
      "outputs": [],
      "metadata": {
        "tags": [
          "sample_code"
        ],
        "collapsed": true,
        "dc": {
          "key": "73"
        },
        "trusted": true
      }
    },
    {
      "cell_type": "markdown",
      "source": "## 12. Using cross-validation to evaluate our models\n<p>Success! Balancing our data has removed bias towards the more prevalent class. To get a good sense of how well our models are actually performing, we can apply what's called <strong>cross-validation</strong> (CV). This step allows us to compare models in a more rigorous fashion.</p>\n<p>Before we can perform cross-validation we will need to create pipelines to scale our data, perform PCA, and instantiate our model of choice - <code>DecisionTreeClassifier</code> or <code>LogisticRegression</code>.</p>\n<p>Since the way our data is split into train and test sets can impact model performance, CV attempts to split the data multiple ways and test the model on each of the splits. Although there are many different CV methods, all with their own advantages and disadvantages, we will use what's known as <strong>K-fold</strong> CV here. K-fold first splits the data into K different, equally sized subsets. Then, it iteratively uses each subset as a test set while using the remainder of the data as train sets. Finally, we can then aggregate the results from each fold for a final model performance score.</p>",
      "metadata": {
        "tags": [
          "context"
        ],
        "run_control": {
          "frozen": true
        },
        "dc": {
          "key": "80"
        }
      }
    },
    {
      "cell_type": "code",
      "execution_count": null,
      "source": "from sklearn.model_selection import KFold, cross_val_score\nfrom sklearn.pipeline import Pipeline\ntree_pipe = Pipeline([(\"scaler\", StandardScaler()), (\"pca\", PCA(n_components=6)), \n                      (\"tree\", DecisionTreeClassifier(random_state=10))])\nlogreg_pipe = Pipeline([(\"scaler\", StandardScaler()), (\"pca\", PCA(n_components=6)), \n                        (\"logreg\", LogisticRegression(random_state=10))])\n\n# Set up our K-fold cross-validation\nkf = KFold(10)\n\n# Train our models using KFold cv\ntree_score = cross_val_score(tree_pipe, features, labels, cv=kf)\nlogit_score = cross_val_score(logreg_pipe, features, labels, cv=kf)\n\n# Print the mean of each array o scores\nprint(\"Decision Tree:\", np.mean(tree_score), \"Logistic Regression:\", np.mean(logit_score))",
      "outputs": [],
      "metadata": {
        "tags": [
          "sample_code"
        ],
        "collapsed": true,
        "dc": {
          "key": "80"
        },
        "trusted": true
      }
    }
  ],
  "nbformat_minor": 2,
  "nbformat": 4
}